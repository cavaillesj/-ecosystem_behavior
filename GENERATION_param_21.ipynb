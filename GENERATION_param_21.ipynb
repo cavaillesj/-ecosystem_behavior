{
 "cells": [
  {
   "cell_type": "markdown",
   "metadata": {},
   "source": [
    "# Generation of the simulation "
   ]
  },
  {
   "cell_type": "markdown",
   "metadata": {},
   "source": [
    "### News :\n",
    "- adaptative dt\n",
    "- begin to the (2nd) stable equilibrium\n",
    "- different variability\n",
    "- different collapse (collapse proba and collapse proba per time unit)\n",
    "- different application to the variability"
   ]
  },
  {
   "cell_type": "code",
   "execution_count": 1,
   "metadata": {},
   "outputs": [],
   "source": [
    "import time as tm\n",
    "import colorsys\n",
    "import pickle # package use to save data\n",
    "\n",
    "exec(open(\"solver2.py\").read(), globals())\n",
    "exec(open(\"param.py\").read(), globals())"
   ]
  },
  {
   "cell_type": "code",
   "execution_count": 2,
   "metadata": {},
   "outputs": [],
   "source": [
    "def exemples(name, Number_of_simulation = 100, mean = True, **kwargs):\n",
    "    name = name+\"_freq=\"+str(kwargs[\"Fire_param\"][\"param_freq\"][\"p\"])+\".png\"\n",
    "    O = Ode(**kwargs)\n",
    "    Y = O.solve_by_part()\n",
    "    O.plot_time_series(save = True, name = name, generation = True, show = False)\n",
    "    return Y"
   ]
  },
  {
   "cell_type": "code",
   "execution_count": 3,
   "metadata": {},
   "outputs": [],
   "source": [
    "def param_study(Number_of_simulation, numbreDePoint, Freq, Param_phy, Init, finalTime, alpha, beta, strength, name):\n",
    "   # Color = [\"blue\", \"g\", \"red\", \"orange\", \"pink\", \"black\", \"magenta\", \"grey\"]\n",
    "    Param_coupled = {\"alpha\":alpha,\n",
    "                     \"beta\":beta}\n",
    "    Param_freq = {\"p\":-1} # going to change\n",
    "    Param_strength = {\"scale\":strength}\n",
    "    Fire_param = {\"model\": \"coupled\",\n",
    "                    \"frequence\": \"bernoulli\",\n",
    "                    \"param_freq\" : Param_freq,\n",
    "                    \"amplitude\": \"exponential\",\n",
    "                    \"Param_strength\" : Param_strength,\n",
    "                    \"Param_coupled\" : Param_coupled,\n",
    "                    \"type\" : \"proportionnal\",\n",
    "                    \"coef_W_N\" : 5}\n",
    "\n",
    "\n",
    "    # Initialization of arrays\n",
    "    Collapse_proba = np.zeros((numbreDePoint, len(Freq)))\n",
    "    Collapse_proba_per_time_unit = np.zeros_like(Collapse_proba)\n",
    "\n",
    "    Variability_always_N = np.zeros_like(Collapse_proba)\n",
    "    Variability_until_N = np.zeros_like(Collapse_proba)\n",
    "    Variability_10_N = np.zeros_like(Collapse_proba)\n",
    "    Variability_only_N = np.zeros_like(Collapse_proba)\n",
    "    Variability_tr10_N = np.zeros_like(Collapse_proba)\n",
    "    Variability_tr0_N = np.zeros_like(Collapse_proba)\n",
    "    \n",
    "    Variability_always_W = np.zeros_like(Collapse_proba)\n",
    "    Variability_until_W = np.zeros_like(Collapse_proba)\n",
    "    Variability_10_W = np.zeros_like(Collapse_proba)\n",
    "    Variability_only_W = np.zeros_like(Collapse_proba)\n",
    "    Variability_tr10_W = np.zeros_like(Collapse_proba)\n",
    "    Variability_tr0_W = np.zeros_like(Collapse_proba)\n",
    "    \n",
    "    Variability_always_NW = np.zeros_like(Collapse_proba)\n",
    "    Variability_until_NW = np.zeros_like(Collapse_proba)\n",
    "    Variability_10_NW = np.zeros_like(Collapse_proba)\n",
    "    Variability_only_NW = np.zeros_like(Collapse_proba)\n",
    "    Variability_tr10_NW = np.zeros_like(Collapse_proba)\n",
    "    Variability_tr0_NW = np.zeros_like(Collapse_proba)\n",
    "    \n",
    "    #Exemples = np.zeros(len(Freq))\n",
    "    \n",
    "    for i, freq in enumerate(Freq):\n",
    "        Param_freq = {\"p\":freq}\n",
    "        Fire_param[\"param_freq\"] = Param_freq\n",
    "        dt = min(0.1, 0.1/freq)\n",
    "        #Init = [1, Param_phy[1]]\n",
    "        exemples(name = name, Number_of_simulation = Number_of_simulation, mean = False, finalTime = finalTime, Fire_param = Fire_param, dt = dt, Param_phy=Param_phy, Init=Init)\n",
    "        for j in range(numbreDePoint):\n",
    "            S = Solver(numberOfSimulation=Number_of_simulation, model = \"allee_effect_adi\", Init=Init, Param_phy= Param_phy, finalTime = finalTime, dt=dt, Fire_param = Fire_param)\n",
    "            S.run()\n",
    "            Collapse_proba[j,i] = S.collapse_proba()\n",
    "            Collapse_proba_per_time_unit[j,i] = S.collapse_proba_per_time_unit()\n",
    "\n",
    "            Variability_always_N[j,i] = S.variability_always(applicant=\"N\")\n",
    "            Variability_until_N[j,i] = S.variability_until(applicant=\"N\")\n",
    "            Variability_10_N[j,i] = S.variability_10(applicant=\"N\")\n",
    "            Variability_only_N[j,i] = S.variability_only(applicant=\"N\")\n",
    "            Variability_tr10_N[j,i] = S.variability_tr10(applicant=\"N\")\n",
    "            Variability_tr0_N[j,i] = S.variability_tr0(applicant=\"N\")\n",
    "            \n",
    "            Variability_always_W[j,i] = S.variability_always(applicant=\"W\")\n",
    "            Variability_until_W[j,i] = S.variability_until(applicant=\"W\")\n",
    "            Variability_10_W[j,i] = S.variability_10(applicant=\"W\")\n",
    "            Variability_only_W[j,i] = S.variability_only(applicant=\"W\")\n",
    "            Variability_tr10_W[j,i] = S.variability_tr10(applicant=\"W\")\n",
    "            Variability_tr0_W[j,i] = S.variability_tr0(applicant=\"W\")\n",
    "            \n",
    "            Variability_always_NW[j,i] = S.variability_always(applicant=\"N+W\")\n",
    "            Variability_until_NW[j,i] = S.variability_until(applicant=\"N+W\")\n",
    "            Variability_10_NW[j,i] = S.variability_10(applicant=\"N+W\")\n",
    "            Variability_only_NW[j,i] = S.variability_only(applicant=\"N+W\")\n",
    "            Variability_tr10_NW[j,i] = S.variability_tr10(applicant=\"N+W\")\n",
    "            Variability_tr0_NW[j,i] = S.variability_tr0(applicant=\"N+W\")\n",
    "            \n",
    "           # print(\"\\nTime solve init\", t05-t0)\n",
    "            #print(\"Time solver \", t1-t05)\n",
    "            #print(\"Time collapse \", t2-t1)\n",
    "            #print(\"Time variability \", t3-t2)\n",
    "            \n",
    "    Measures = {\"Collapse_proba\": Collapse_proba,\n",
    "                \"Collapse_proba_per_time_unit\": Collapse_proba_per_time_unit, \n",
    "                \n",
    "                \"Variability_always_N\": Variability_always_N, \n",
    "                \"Variability_until_N\":Variability_until_N,\n",
    "                \"Variability_10_N\":Variability_10_N,\n",
    "                \"Variability_only_N\":Variability_only_N,\n",
    "                \"Variability_tr10_N\": Variability_tr10_N,\n",
    "                \"Variability_tr0_N\": Variability_tr0_N,\n",
    "                \n",
    "                \"Variability_always_W\": Variability_always_W, \n",
    "                \"Variability_until_W\":Variability_until_W,\n",
    "                \"Variability_10_W\":Variability_10_W,\n",
    "                \"Variability_only_W\":Variability_only_W,\n",
    "                \"Variability_tr10_W\": Variability_tr10_W,\n",
    "                \"Variability_tr0_W\": Variability_tr0_W,\n",
    "                \n",
    "                \"Variability_always_NW\": Variability_always_NW, \n",
    "                \"Variability_until_NW\":Variability_until_NW,\n",
    "                \"Variability_10_NW\":Variability_10_NW,\n",
    "                \"Variability_only_NW\":Variability_only_NW,\n",
    "                \"Variability_tr10_NW\": Variability_tr10_NW,\n",
    "                \"Variability_tr0_NW\": Variability_tr0_NW              \n",
    "               }\n",
    "    \n",
    "    # save data\n",
    "    pickle_out = open(name+\".txt\",\"wb\")\n",
    "    pickle.dump(Measures, pickle_out)\n",
    "    pickle_out.close()\n",
    "    \n",
    "    return"
   ]
  },
  {
   "cell_type": "code",
   "execution_count": 4,
   "metadata": {
    "scrolled": false
   },
   "outputs": [
    {
     "name": "stdout",
     "output_type": "stream",
     "text": [
      "Thu Apr 18 11:26:17 2019 , Figure  15 (total  1440 )\n",
      "Thu Apr 18 11:31:01 2019 , Figure  30 (total  1440 )\n",
      "Thu Apr 18 11:35:46 2019 , Figure  45 (total  1440 )\n"
     ]
    },
    {
     "name": "stderr",
     "output_type": "stream",
     "text": [
      "C:\\Users\\jerome\\Anaconda3\\lib\\site-packages\\ipykernel_launcher.py:149: RuntimeWarning: Mean of empty slice\n",
      "C:\\Users\\jerome\\Anaconda3\\lib\\site-packages\\numpy\\core\\fromnumeric.py:2920: RuntimeWarning: Mean of empty slice.\n",
      "  out=out, **kwargs)\n",
      "C:\\Users\\jerome\\Anaconda3\\lib\\site-packages\\numpy\\core\\_methods.py:85: RuntimeWarning: invalid value encountered in double_scalars\n",
      "  ret = ret.dtype.type(ret / rcount)\n",
      "C:\\Users\\jerome\\Anaconda3\\lib\\site-packages\\ipykernel_launcher.py:197: RuntimeWarning: Mean of empty slice\n",
      "C:\\Users\\jerome\\Anaconda3\\lib\\site-packages\\ipykernel_launcher.py:215: RuntimeWarning: Mean of empty slice\n",
      "C:\\Users\\jerome\\Anaconda3\\lib\\site-packages\\ipykernel_launcher.py:198: RuntimeWarning: Mean of empty slice\n"
     ]
    },
    {
     "name": "stdout",
     "output_type": "stream",
     "text": [
      "Thu Apr 18 11:40:31 2019 , Figure  60 (total  1440 )\n",
      "Thu Apr 18 11:45:17 2019 , Figure  75 (total  1440 )\n",
      "Thu Apr 18 11:50:02 2019 , Figure  90 (total  1440 )\n",
      "Thu Apr 18 11:54:46 2019 , Figure  105 (total  1440 )\n",
      "Thu Apr 18 11:59:30 2019 , Figure  120 (total  1440 )\n",
      "Thu Apr 18 12:04:14 2019 , Figure  135 (total  1440 )\n",
      "Thu Apr 18 12:08:58 2019 , Figure  150 (total  1440 )\n",
      "Thu Apr 18 12:13:43 2019 , Figure  165 (total  1440 )\n",
      "Thu Apr 18 12:18:28 2019 , Figure  180 (total  1440 )\n",
      "Thu Apr 18 12:23:12 2019 , Figure  195 (total  1440 )\n",
      "Thu Apr 18 12:27:55 2019 , Figure  210 (total  1440 )\n",
      "Thu Apr 18 12:32:41 2019 , Figure  225 (total  1440 )\n"
     ]
    },
    {
     "name": "stderr",
     "output_type": "stream",
     "text": [
      "C:\\Users\\jerome\\Anaconda3\\lib\\site-packages\\ipykernel_launcher.py:483: RuntimeWarning: invalid value encountered in less\n",
      "C:\\Users\\jerome\\Anaconda3\\lib\\site-packages\\numpy\\core\\fromnumeric.py:3157: RuntimeWarning: Degrees of freedom <= 0 for slice\n",
      "  **kwargs)\n",
      "C:\\Users\\jerome\\Anaconda3\\lib\\site-packages\\numpy\\core\\_methods.py:110: RuntimeWarning: invalid value encountered in true_divide\n",
      "  arrmean, rcount, out=arrmean, casting='unsafe', subok=False)\n",
      "C:\\Users\\jerome\\Anaconda3\\lib\\site-packages\\numpy\\core\\_methods.py:132: RuntimeWarning: invalid value encountered in double_scalars\n",
      "  ret = ret.dtype.type(ret / rcount)\n"
     ]
    },
    {
     "name": "stdout",
     "output_type": "stream",
     "text": [
      "Thu Apr 18 12:37:20 2019 , Figure  240 (total  1440 )\n",
      "Thu Apr 18 12:42:01 2019 , Figure  255 (total  1440 )\n",
      "Thu Apr 18 12:46:43 2019 , Figure  270 (total  1440 )\n",
      "Thu Apr 18 12:51:23 2019 , Figure  285 (total  1440 )\n",
      "Thu Apr 18 12:56:06 2019 , Figure  300 (total  1440 )\n",
      "Thu Apr 18 13:00:49 2019 , Figure  315 (total  1440 )\n",
      "Thu Apr 18 13:05:30 2019 , Figure  330 (total  1440 )\n",
      "Thu Apr 18 13:10:13 2019 , Figure  345 (total  1440 )\n",
      "Thu Apr 18 13:14:56 2019 , Figure  360 (total  1440 )\n",
      "Thu Apr 18 13:19:35 2019 , Figure  375 (total  1440 )\n",
      "Thu Apr 18 13:24:17 2019 , Figure  390 (total  1440 )\n",
      "Thu Apr 18 13:29:00 2019 , Figure  405 (total  1440 )\n",
      "Thu Apr 18 13:33:40 2019 , Figure  420 (total  1440 )\n",
      "Thu Apr 18 13:38:20 2019 , Figure  435 (total  1440 )\n",
      "Thu Apr 18 13:43:02 2019 , Figure  450 (total  1440 )\n",
      "Thu Apr 18 13:47:44 2019 , Figure  465 (total  1440 )\n",
      "Thu Apr 18 13:52:27 2019 , Figure  480 (total  1440 )\n",
      "Thu Apr 18 13:57:15 2019 , Figure  495 (total  1440 )\n"
     ]
    },
    {
     "name": "stderr",
     "output_type": "stream",
     "text": [
      "C:\\Users\\jerome\\Anaconda3\\lib\\site-packages\\ipykernel_launcher.py:216: RuntimeWarning: Mean of empty slice\n"
     ]
    },
    {
     "name": "stdout",
     "output_type": "stream",
     "text": [
      "Thu Apr 18 14:01:58 2019 , Figure  510 (total  1440 )\n",
      "Thu Apr 18 14:06:42 2019 , Figure  525 (total  1440 )\n",
      "Thu Apr 18 14:11:27 2019 , Figure  540 (total  1440 )\n",
      "Thu Apr 18 14:16:08 2019 , Figure  555 (total  1440 )\n",
      "Thu Apr 18 14:20:57 2019 , Figure  570 (total  1440 )\n",
      "Thu Apr 18 14:25:51 2019 , Figure  585 (total  1440 )\n",
      "Thu Apr 18 14:30:40 2019 , Figure  600 (total  1440 )\n",
      "Thu Apr 18 14:35:30 2019 , Figure  615 (total  1440 )\n",
      "Thu Apr 18 14:40:23 2019 , Figure  630 (total  1440 )\n",
      "Thu Apr 18 14:45:13 2019 , Figure  645 (total  1440 )\n",
      "Thu Apr 18 14:50:05 2019 , Figure  660 (total  1440 )\n",
      "Thu Apr 18 14:55:01 2019 , Figure  675 (total  1440 )\n",
      "Thu Apr 18 14:59:53 2019 , Figure  690 (total  1440 )\n",
      "Thu Apr 18 15:04:43 2019 , Figure  705 (total  1440 )\n",
      "Thu Apr 18 15:09:49 2019 , Figure  720 (total  1440 )\n",
      "Thu Apr 18 15:14:49 2019 , Figure  735 (total  1440 )\n",
      "Thu Apr 18 15:19:43 2019 , Figure  750 (total  1440 )\n",
      "Thu Apr 18 15:24:48 2019 , Figure  765 (total  1440 )\n",
      "Thu Apr 18 15:29:56 2019 , Figure  780 (total  1440 )\n",
      "Thu Apr 18 15:35:09 2019 , Figure  795 (total  1440 )\n",
      "Thu Apr 18 15:40:15 2019 , Figure  810 (total  1440 )\n",
      "Thu Apr 18 15:45:12 2019 , Figure  825 (total  1440 )\n",
      "Thu Apr 18 15:50:10 2019 , Figure  840 (total  1440 )\n",
      "Thu Apr 18 15:55:10 2019 , Figure  855 (total  1440 )\n",
      "Thu Apr 18 16:00:10 2019 , Figure  870 (total  1440 )\n",
      "Thu Apr 18 16:05:14 2019 , Figure  885 (total  1440 )\n",
      "Thu Apr 18 16:10:17 2019 , Figure  900 (total  1440 )\n",
      "Thu Apr 18 16:15:13 2019 , Figure  915 (total  1440 )\n",
      "Thu Apr 18 16:20:12 2019 , Figure  930 (total  1440 )\n",
      "Thu Apr 18 16:25:12 2019 , Figure  945 (total  1440 )\n",
      "Thu Apr 18 16:30:03 2019 , Figure  960 (total  1440 )\n",
      "Thu Apr 18 16:34:58 2019 , Figure  975 (total  1440 )\n",
      "Thu Apr 18 16:39:58 2019 , Figure  990 (total  1440 )\n",
      "Thu Apr 18 16:44:49 2019 , Figure  1005 (total  1440 )\n",
      "Thu Apr 18 16:49:46 2019 , Figure  1020 (total  1440 )\n",
      "Thu Apr 18 16:54:44 2019 , Figure  1035 (total  1440 )\n",
      "Thu Apr 18 16:59:34 2019 , Figure  1050 (total  1440 )\n",
      "Thu Apr 18 17:04:26 2019 , Figure  1065 (total  1440 )\n",
      "Thu Apr 18 17:09:22 2019 , Figure  1080 (total  1440 )\n",
      "Thu Apr 18 17:14:16 2019 , Figure  1095 (total  1440 )\n",
      "Thu Apr 18 17:19:11 2019 , Figure  1110 (total  1440 )\n",
      "Thu Apr 18 17:24:09 2019 , Figure  1125 (total  1440 )\n",
      "Thu Apr 18 17:29:04 2019 , Figure  1140 (total  1440 )\n",
      "Thu Apr 18 17:33:52 2019 , Figure  1155 (total  1440 )\n",
      "Thu Apr 18 17:38:41 2019 , Figure  1170 (total  1440 )\n",
      "Thu Apr 18 17:43:20 2019 , Figure  1185 (total  1440 )\n",
      "Thu Apr 18 17:47:59 2019 , Figure  1200 (total  1440 )\n",
      "Thu Apr 18 17:52:42 2019 , Figure  1215 (total  1440 )\n",
      "Thu Apr 18 17:57:21 2019 , Figure  1230 (total  1440 )\n",
      "Thu Apr 18 18:01:59 2019 , Figure  1245 (total  1440 )\n",
      "Thu Apr 18 18:06:41 2019 , Figure  1260 (total  1440 )\n",
      "Thu Apr 18 18:11:21 2019 , Figure  1275 (total  1440 )\n",
      "Thu Apr 18 18:15:59 2019 , Figure  1290 (total  1440 )\n",
      "Thu Apr 18 18:20:41 2019 , Figure  1305 (total  1440 )\n",
      "Thu Apr 18 18:25:19 2019 , Figure  1320 (total  1440 )\n",
      "Thu Apr 18 18:29:57 2019 , Figure  1335 (total  1440 )\n",
      "Thu Apr 18 18:34:40 2019 , Figure  1350 (total  1440 )\n",
      "Thu Apr 18 18:39:18 2019 , Figure  1365 (total  1440 )\n",
      "Thu Apr 18 18:44:00 2019 , Figure  1380 (total  1440 )\n",
      "Thu Apr 18 18:48:48 2019 , Figure  1395 (total  1440 )\n",
      "Thu Apr 18 18:53:33 2019 , Figure  1410 (total  1440 )\n",
      "Thu Apr 18 18:58:20 2019 , Figure  1425 (total  1440 )\n",
      "Thu Apr 18 19:03:12 2019 , Figure  1440 (total  1440 )\n"
     ]
    },
    {
     "data": {
      "image/png": "[encoded data removed]",
      "text/plain": [
       "<Figure size 432x288 with 1 Axes>"
      ]
     },
     "metadata": {
      "needs_background": "light"
     },
     "output_type": "display_data"
    }
   ],
   "source": [
    "nomberFigure = len(N0)*len(W0)*len(FinalTime)*len(A)*len(M)*len(Alpha)*len(Beta)*len(Strength)\n",
    "fig_by_loop = len(Freq) + 1\n",
    "\n",
    "c=0\n",
    "print(\"Time at the lunch of the simulation\\n\", tm.ctime(), \", Figure \", c*fig_by_loop, \"(total \", fig_by_loop*nomberFigure, \")\") # afficher l'heure\n",
    "for n0 in N0:\n",
    "    for w0 in W0:\n",
    "        Init = [n0, w0]\n",
    "        for finalTime in FinalTime:\n",
    "            for a in A:\n",
    "                for m in M:\n",
    "                    Param_phy = [a, m]\n",
    "                    Init = [1., Param_phy[1]]\n",
    "                    for strength in Strength:\n",
    "                        for alpha in Alpha:\n",
    "                            for beta in Beta:\n",
    "                                name = DOSSIER+\"n0=\"+str(Init[0])+\"_w0=\"+str(Init[1])+\"_final_time=\"+str(finalTime)+\"_a=\"+str(a)+\"_m=\"+str(m)+\"_strength=\"+str(strength)+\"_alpha=\"+str(alpha)+\"_beta=\"+str(beta)\n",
    "                                param_study(Number_of_simulation, numbreDePoint, Freq, Param_phy, Init, finalTime, alpha, beta, strength, name)           \n",
    "                                c+=1\n",
    "                                print(tm.ctime(), \", Figure \", c*fig_by_loop, \"(total \", fig_by_loop*nomberFigure, \")\") # afficher l'heure"
   ]
  }
 ],
 "metadata": {
  "kernelspec": {
   "display_name": "Python 3",
   "language": "python",
   "name": "python3"
  },
  "language_info": {
   "codemirror_mode": {
    "name": "ipython",
    "version": 3
   },
   "file_extension": ".py",
   "mimetype": "text/x-python",
   "name": "python",
   "nbconvert_exporter": "python",
   "pygments_lexer": "ipython3",
   "version": "3.7.1"
  }
 },
 "nbformat": 4,
 "nbformat_minor": 2
}
