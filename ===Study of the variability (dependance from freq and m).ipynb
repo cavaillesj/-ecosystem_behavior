{
 "cells": [
  {
   "cell_type": "code",
   "execution_count": 3,
   "metadata": {},
   "outputs": [],
   "source": [
    "import numpy as np\n",
    "import matplotlib.pyplot as plt\n",
    "\n",
    "exec(open(\"solver2.py\").read(), globals())"
   ]
  },
  {
   "cell_type": "code",
   "execution_count": 1,
   "metadata": {},
   "outputs": [],
   "source": [
    "N0 = [1.0]\n",
    "W0 = [2.0]\n",
    "\n",
    "A = [0.1] \n",
    "M = [2.] # [2., 5., 10.]\n",
    "Strength = [0.002]\n",
    "Alpha = [20]\n",
    "Beta = [2.] # DECREASE !\n",
    "Freq = [1., 1.5, 2.]\n",
    "\n",
    "#dt = 0.02\n",
    "FinalTime = [100]"
   ]
  },
  {
   "cell_type": "code",
   "execution_count": null,
   "metadata": {},
   "outputs": [],
   "source": []
  }
 ],
 "metadata": {
  "kernelspec": {
   "display_name": "Python 3",
   "language": "python",
   "name": "python3"
  },
  "language_info": {
   "codemirror_mode": {
    "name": "ipython",
    "version": 3
   },
   "file_extension": ".py",
   "mimetype": "text/x-python",
   "name": "python",
   "nbconvert_exporter": "python",
   "pygments_lexer": "ipython3",
   "version": "3.7.1"
  }
 },
 "nbformat": 4,
 "nbformat_minor": 2
}
