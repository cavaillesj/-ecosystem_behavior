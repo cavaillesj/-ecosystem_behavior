{
 "cells": [
  {
   "cell_type": "markdown",
   "metadata": {},
   "source": [
    "# Generation of the simulation "
   ]
  },
  {
   "cell_type": "markdown",
   "metadata": {},
   "source": [
    "### News :\n",
    "- initial point eq or other"
   ]
  },
  {
   "cell_type": "code",
   "execution_count": 1,
   "metadata": {},
   "outputs": [],
   "source": [
    "import time as tm\n",
    "import colorsys\n",
    "import pickle # package use to save data\n",
    "\n",
    "exec(open(\"solver2.py\").read(), globals())\n",
    "exec(open(\"param.py\").read(), globals())"
   ]
  },
  {
   "cell_type": "code",
   "execution_count": 2,
   "metadata": {},
   "outputs": [],
   "source": [
    "def exemples(name, Number_of_simulation = 100, mean = True, **kwargs):\n",
    "    name = name+\"_freq=\"+str(kwargs[\"Fire_param\"][\"param_freq\"][\"p\"])+\".png\"\n",
    "    O = Ode(**kwargs)\n",
    "    Y = O.solve_by_part()\n",
    "    O.plot_time_series(save = True, name = name, generation = True, show = False)\n",
    "    return Y"
   ]
  },
  {
   "cell_type": "code",
   "execution_count": 3,
   "metadata": {},
   "outputs": [],
   "source": [
    "def param_study(Number_of_simulation, numbreDePoint, Freq, Param_phy, Init, finalTime, alpha, beta, strength, name):\n",
    "   # Color = [\"blue\", \"g\", \"red\", \"orange\", \"pink\", \"black\", \"magenta\", \"grey\"]\n",
    "    Param_coupled = {\"alpha\":alpha,\n",
    "                     \"beta\":beta}\n",
    "    Param_freq = {\"p\":-1} # going to change\n",
    "    Param_strength = {\"scale\":strength}\n",
    "    Fire_param = {\"model\": \"coupled\",\n",
    "                    \"frequence\": \"bernoulli\",\n",
    "                    \"param_freq\" : Param_freq,\n",
    "                    \"amplitude\": \"exponential\",\n",
    "                    \"Param_strength\" : Param_strength,\n",
    "                    \"Param_coupled\" : Param_coupled,\n",
    "                    \"type\" : \"proportionnal\",\n",
    "                    \"coef_W_N\" : 5}\n",
    "\n",
    "\n",
    "    # Initialization of arrays\n",
    "    Collapse_proba = np.zeros((numbreDePoint, len(Freq)))\n",
    "    Collapse_proba_per_time_unit = np.zeros_like(Collapse_proba)\n",
    "\n",
    "    Variability_always_N = np.zeros_like(Collapse_proba)\n",
    "    Variability_until_N = np.zeros_like(Collapse_proba)\n",
    "    Variability_10_N = np.zeros_like(Collapse_proba)\n",
    "    Variability_only_N = np.zeros_like(Collapse_proba)\n",
    "    Variability_tr10_N = np.zeros_like(Collapse_proba)\n",
    "    Variability_tr0_N = np.zeros_like(Collapse_proba)\n",
    "    \n",
    "    Variability_always_W = np.zeros_like(Collapse_proba)\n",
    "    Variability_until_W = np.zeros_like(Collapse_proba)\n",
    "    Variability_10_W = np.zeros_like(Collapse_proba)\n",
    "    Variability_only_W = np.zeros_like(Collapse_proba)\n",
    "    Variability_tr10_W = np.zeros_like(Collapse_proba)\n",
    "    Variability_tr0_W = np.zeros_like(Collapse_proba)\n",
    "    \n",
    "    Variability_always_NW = np.zeros_like(Collapse_proba)\n",
    "    Variability_until_NW = np.zeros_like(Collapse_proba)\n",
    "    Variability_10_NW = np.zeros_like(Collapse_proba)\n",
    "    Variability_only_NW = np.zeros_like(Collapse_proba)\n",
    "    Variability_tr10_NW = np.zeros_like(Collapse_proba)\n",
    "    Variability_tr0_NW = np.zeros_like(Collapse_proba)\n",
    "    \n",
    "    #Exemples = np.zeros(len(Freq))\n",
    "    \n",
    "    for i, freq in enumerate(Freq):\n",
    "        Param_freq = {\"p\":freq}\n",
    "        Fire_param[\"param_freq\"] = Param_freq\n",
    "        dt = min(0.1, 0.1/freq)\n",
    "        #Init = [1, Param_phy[1]]\n",
    "        exemples(name = name, Number_of_simulation = Number_of_simulation, mean = False, finalTime = finalTime, Fire_param = Fire_param, dt = dt, Param_phy=Param_phy, Init=Init)\n",
    "        for j in range(numbreDePoint):\n",
    "            S = Solver(numberOfSimulation=Number_of_simulation, model = \"allee_effect_adi\", Init=Init, Param_phy= Param_phy, finalTime = finalTime, dt=dt, Fire_param = Fire_param)\n",
    "            S.run()\n",
    "            Collapse_proba[j,i] = S.collapse_proba()\n",
    "            Collapse_proba_per_time_unit[j,i] = S.collapse_proba_per_time_unit()\n",
    "\n",
    "            Variability_always_N[j,i] = S.variability_always(applicant=\"N\")\n",
    "            Variability_until_N[j,i] = S.variability_until(applicant=\"N\")\n",
    "            Variability_10_N[j,i] = S.variability_10(applicant=\"N\")\n",
    "            Variability_only_N[j,i] = S.variability_only(applicant=\"N\")\n",
    "            Variability_tr10_N[j,i] = S.variability_tr10(applicant=\"N\")\n",
    "            Variability_tr0_N[j,i] = S.variability_tr0(applicant=\"N\")\n",
    "            \n",
    "            Variability_always_W[j,i] = S.variability_always(applicant=\"W\")\n",
    "            Variability_until_W[j,i] = S.variability_until(applicant=\"W\")\n",
    "            Variability_10_W[j,i] = S.variability_10(applicant=\"W\")\n",
    "            Variability_only_W[j,i] = S.variability_only(applicant=\"W\")\n",
    "            Variability_tr10_W[j,i] = S.variability_tr10(applicant=\"W\")\n",
    "            Variability_tr0_W[j,i] = S.variability_tr0(applicant=\"W\")\n",
    "            \n",
    "            Variability_always_NW[j,i] = S.variability_always(applicant=\"N+W\")\n",
    "            Variability_until_NW[j,i] = S.variability_until(applicant=\"N+W\")\n",
    "            Variability_10_NW[j,i] = S.variability_10(applicant=\"N+W\")\n",
    "            Variability_only_NW[j,i] = S.variability_only(applicant=\"N+W\")\n",
    "            Variability_tr10_NW[j,i] = S.variability_tr10(applicant=\"N+W\")\n",
    "            Variability_tr0_NW[j,i] = S.variability_tr0(applicant=\"N+W\")\n",
    "            \n",
    "           # print(\"\\nTime solve init\", t05-t0)\n",
    "            #print(\"Time solver \", t1-t05)\n",
    "            #print(\"Time collapse \", t2-t1)\n",
    "            #print(\"Time variability \", t3-t2)\n",
    "       \n",
    "    Measures = {\"Collapse_proba\": Collapse_proba,\n",
    "                \"Collapse_proba_per_time_unit\": Collapse_proba_per_time_unit, \n",
    "                \n",
    "                \"Variability_always_N\": Variability_always_N, \n",
    "                \"Variability_until_N\":Variability_until_N,\n",
    "                \"Variability_10_N\":Variability_10_N,\n",
    "                \"Variability_only_N\":Variability_only_N,\n",
    "                \"Variability_tr10_N\": Variability_tr10_N,\n",
    "                \"Variability_tr0_N\": Variability_tr0_N,\n",
    "                \n",
    "                \"Variability_always_W\": Variability_always_W, \n",
    "                \"Variability_until_W\":Variability_until_W,\n",
    "                \"Variability_10_W\":Variability_10_W,\n",
    "                \"Variability_only_W\":Variability_only_W,\n",
    "                \"Variability_tr10_W\": Variability_tr10_W,\n",
    "                \"Variability_tr0_W\": Variability_tr0_W,\n",
    "                \n",
    "                \"Variability_always_NW\": Variability_always_NW, \n",
    "                \"Variability_until_NW\":Variability_until_NW,\n",
    "                \"Variability_10_NW\":Variability_10_NW,\n",
    "                \"Variability_only_NW\":Variability_only_NW,\n",
    "                \"Variability_tr10_NW\": Variability_tr10_NW,\n",
    "                \"Variability_tr0_NW\": Variability_tr0_NW              \n",
    "               }\n",
    "    \n",
    "    # save data\n",
    "    pickle_out = open(name+\".txt\",\"wb\")\n",
    "    pickle.dump(Measures, pickle_out)\n",
    "    pickle_out.close()\n",
    "    \n",
    "    return"
   ]
  },
  {
   "cell_type": "code",
   "execution_count": 4,
   "metadata": {
    "scrolled": false
   },
   "outputs": [
    {
     "name": "stdout",
     "output_type": "stream",
     "text": [
      "Time at the lunch of the simulation : \n",
      " Tue Apr 30 09:21:37 2019 , Figure  0 (total  576 )\n",
      "Tue Apr 30 09:24:57 2019 , Figure  12 (total  576 )\n",
      "Tue Apr 30 09:28:16 2019 , Figure  24 (total  576 )\n",
      "Tue Apr 30 09:31:37 2019 , Figure  36 (total  576 )\n",
      "Tue Apr 30 09:34:55 2019 , Figure  48 (total  576 )\n",
      "Tue Apr 30 09:38:14 2019 , Figure  60 (total  576 )\n",
      "Tue Apr 30 09:41:34 2019 , Figure  72 (total  576 )\n"
     ]
    },
    {
     "name": "stderr",
     "output_type": "stream",
     "text": [
      "C:\\Users\\jerome\\Anaconda3\\lib\\site-packages\\ipykernel_launcher.py:136: RuntimeWarning: Mean of empty slice\n",
      "C:\\Users\\jerome\\Anaconda3\\lib\\site-packages\\numpy\\core\\fromnumeric.py:2920: RuntimeWarning: Mean of empty slice.\n",
      "  out=out, **kwargs)\n",
      "C:\\Users\\jerome\\Anaconda3\\lib\\site-packages\\numpy\\core\\_methods.py:85: RuntimeWarning: invalid value encountered in double_scalars\n",
      "  ret = ret.dtype.type(ret / rcount)\n",
      "C:\\Users\\jerome\\Anaconda3\\lib\\site-packages\\ipykernel_launcher.py:184: RuntimeWarning: Mean of empty slice\n",
      "C:\\Users\\jerome\\Anaconda3\\lib\\site-packages\\ipykernel_launcher.py:207: RuntimeWarning: Mean of empty slice\n",
      "C:\\Users\\jerome\\Anaconda3\\lib\\site-packages\\ipykernel_launcher.py:185: RuntimeWarning: Mean of empty slice\n"
     ]
    },
    {
     "name": "stdout",
     "output_type": "stream",
     "text": [
      "Tue Apr 30 09:44:54 2019 , Figure  84 (total  576 )\n",
      "Tue Apr 30 09:48:14 2019 , Figure  96 (total  576 )\n",
      "Tue Apr 30 09:51:35 2019 , Figure  108 (total  576 )\n",
      "Tue Apr 30 09:54:54 2019 , Figure  120 (total  576 )\n",
      "Tue Apr 30 09:58:14 2019 , Figure  132 (total  576 )\n",
      "Tue Apr 30 10:01:34 2019 , Figure  144 (total  576 )\n",
      "Tue Apr 30 10:04:53 2019 , Figure  156 (total  576 )\n",
      "Tue Apr 30 10:08:11 2019 , Figure  168 (total  576 )\n",
      "Tue Apr 30 10:11:30 2019 , Figure  180 (total  576 )\n",
      "Tue Apr 30 10:14:49 2019 , Figure  192 (total  576 )\n",
      "Tue Apr 30 10:18:11 2019 , Figure  204 (total  576 )\n",
      "Tue Apr 30 10:21:31 2019 , Figure  216 (total  576 )\n",
      "Tue Apr 30 10:24:50 2019 , Figure  228 (total  576 )\n",
      "Tue Apr 30 10:28:08 2019 , Figure  240 (total  576 )\n",
      "Tue Apr 30 10:31:25 2019 , Figure  252 (total  576 )\n",
      "Tue Apr 30 10:34:43 2019 , Figure  264 (total  576 )\n",
      "Tue Apr 30 10:38:01 2019 , Figure  276 (total  576 )\n",
      "Tue Apr 30 10:41:20 2019 , Figure  288 (total  576 )\n",
      "Tue Apr 30 10:44:42 2019 , Figure  300 (total  576 )\n",
      "Tue Apr 30 10:48:00 2019 , Figure  312 (total  576 )\n",
      "Tue Apr 30 10:51:18 2019 , Figure  324 (total  576 )\n",
      "Tue Apr 30 10:54:35 2019 , Figure  336 (total  576 )\n",
      "Tue Apr 30 10:57:53 2019 , Figure  348 (total  576 )\n",
      "Tue Apr 30 11:01:10 2019 , Figure  360 (total  576 )\n",
      "Tue Apr 30 11:04:28 2019 , Figure  372 (total  576 )\n",
      "Tue Apr 30 11:07:45 2019 , Figure  384 (total  576 )\n",
      "Tue Apr 30 11:11:02 2019 , Figure  396 (total  576 )\n",
      "Tue Apr 30 11:14:20 2019 , Figure  408 (total  576 )\n",
      "Tue Apr 30 11:17:38 2019 , Figure  420 (total  576 )\n",
      "Tue Apr 30 11:20:56 2019 , Figure  432 (total  576 )\n",
      "Tue Apr 30 11:24:13 2019 , Figure  444 (total  576 )\n",
      "Tue Apr 30 11:27:30 2019 , Figure  456 (total  576 )\n",
      "Tue Apr 30 11:30:47 2019 , Figure  468 (total  576 )\n",
      "Tue Apr 30 11:34:03 2019 , Figure  480 (total  576 )\n",
      "Tue Apr 30 11:37:21 2019 , Figure  492 (total  576 )\n",
      "Tue Apr 30 11:40:40 2019 , Figure  504 (total  576 )\n",
      "Tue Apr 30 11:43:59 2019 , Figure  516 (total  576 )\n",
      "Tue Apr 30 11:47:15 2019 , Figure  528 (total  576 )\n",
      "Tue Apr 30 11:50:32 2019 , Figure  540 (total  576 )\n",
      "Tue Apr 30 11:53:49 2019 , Figure  552 (total  576 )\n",
      "Tue Apr 30 11:57:11 2019 , Figure  564 (total  576 )\n",
      "Tue Apr 30 12:00:40 2019 , Figure  576 (total  576 )\n"
     ]
    },
    {
     "data": {
      "image/png": "[encoded data removed]",
      "text/plain": [
       "<Figure size 432x288 with 1 Axes>"
      ]
     },
     "metadata": {
      "needs_background": "light"
     },
     "output_type": "display_data"
    }
   ],
   "source": [
    "nomberFigure = len(N0)*len(W0)*len(FinalTime)*len(A)*len(M)*len(Alpha)*len(Beta)*len(Strength)\n",
    "fig_by_loop = len(Freq) + 1\n",
    "\n",
    "c=0\n",
    "print(\"Time at the lunch of the simulation : \\n\", tm.ctime(), \", Figure \", c*fig_by_loop, \"(total \", fig_by_loop*nomberFigure, \")\") # afficher l'heure\n",
    "\n",
    "\n",
    "for n0 in N0:\n",
    "    for w0 in W0:\n",
    "        Init = [n0, w0]\n",
    "        for finalTime in FinalTime:\n",
    "            for a in A:\n",
    "                for m in M:\n",
    "                    Param_phy = [a, m]\n",
    "                    if(n0==\"equilibrium\"):\n",
    "                        Init[0] = 1.\n",
    "                    if(w0==\"equilibrium\"):\n",
    "                        Init[1] = Param_phy[1]\n",
    "                    for strength in Strength:\n",
    "                        for alpha in Alpha:\n",
    "                            for beta in Beta:\n",
    "                                name = DOSSIER+\"n0=\"+str(Init[0])+\"_w0=\"+str(Init[1])+\"_final_time=\"+str(finalTime)+\"_a=\"+str(a)+\"_m=\"+str(m)+\"_strength=\"+str(strength)+\"_alpha=\"+str(alpha)+\"_beta=\"+str(beta)\n",
    "                                param_study(Number_of_simulation, numbreDePoint, Freq, Param_phy, Init, finalTime, alpha, beta, strength, name)           \n",
    "                                c+=1\n",
    "                                print(tm.ctime(), \", Figure \", c*fig_by_loop, \"(total \", fig_by_loop*nomberFigure, \")\") # afficher l'heure"
   ]
  },
  {
   "cell_type": "markdown",
   "metadata": {},
   "source": [
    "### End at 12h10"
   ]
  },
  {
   "cell_type": "code",
   "execution_count": null,
   "metadata": {},
   "outputs": [],
   "source": []
  }
 ],
 "metadata": {
  "kernelspec": {
   "display_name": "Python 3",
   "language": "python",
   "name": "python3"
  },
  "language_info": {
   "codemirror_mode": {
    "name": "ipython",
    "version": 3
   },
   "file_extension": ".py",
   "mimetype": "text/x-python",
   "name": "python",
   "nbconvert_exporter": "python",
   "pygments_lexer": "ipython3",
   "version": "3.7.1"
  }
 },
 "nbformat": 4,
 "nbformat_minor": 2
}
