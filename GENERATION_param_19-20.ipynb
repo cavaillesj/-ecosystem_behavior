{
 "cells": [
  {
   "cell_type": "markdown",
   "metadata": {},
   "source": [
    "# Generation of the simulation \n",
    "### save one example of time series and all measures"
   ]
  },
  {
   "cell_type": "code",
   "execution_count": 1,
   "metadata": {},
   "outputs": [],
   "source": [
    "import time as tm\n",
    "import colorsys\n",
    "import pickle # package use to save data\n",
    "\n",
    "exec(open(\"solver.py\").read(), globals())\n",
    "exec(open(\"param.py\").read(), globals())"
   ]
  },
  {
   "cell_type": "code",
   "execution_count": 2,
   "metadata": {},
   "outputs": [],
   "source": [
    "def exemples(name, Number_of_simulation = 100, mean = True, **kwargs):\n",
    "    name = name+\"_freq=\"+str(kwargs[\"Fire_param\"][\"param_freq\"][\"p\"])+\".png\"\n",
    "    O = Ode(**kwargs)\n",
    "    Y = O.solve_by_part()\n",
    "    O.plot_time_series(save = True, name = name, generation = True, show = False)\n",
    "    return Y"
   ]
  },
  {
   "cell_type": "code",
   "execution_count": 3,
   "metadata": {},
   "outputs": [],
   "source": [
    "def param_study(Number_of_simulation, numbreDePoint, Freq, Param_phy, Init, finalTime, alpha, beta, strength, dt, name):\n",
    "   # Color = [\"blue\", \"g\", \"red\", \"orange\", \"pink\", \"black\", \"magenta\", \"grey\"]\n",
    "    Param_coupled = {\"alpha\":alpha,\n",
    "                     \"beta\":beta}\n",
    "    Param_freq = {\"p\":-1} # going to change\n",
    "    Param_strength = {\"scale\":strength}\n",
    "    Fire_param = {\"model\": \"coupled\",\n",
    "                    \"frequence\": \"bernoulli\",\n",
    "                    \"param_freq\" : Param_freq,\n",
    "                    \"amplitude\": \"exponential\",\n",
    "                    \"Param_strength\" : Param_strength,\n",
    "                    \"Param_coupled\" : Param_coupled,\n",
    "                    \"type\" : \"proportionnal\",\n",
    "                    \"coef_W_N\" : 5}\n",
    "\n",
    "    # Initialization of arrays\n",
    "    Collapse = np.zeros((numbreDePoint, len(Freq)))\n",
    "    Variability_always = np.zeros_like(Collapse)\n",
    "    Variability_tr10 = np.zeros_like(Collapse)\n",
    "    Variability_tr0 = np.zeros_like(Collapse)\n",
    "    \n",
    "#    Variability_always = np.zeros_like(Collapse)\n",
    " #   Variability_until = np.zeros_like(Collapse)\n",
    "  #  Variability_only = np.zeros_like(Collapse)\n",
    "   # Variability_10 = np.zeros_like(Collapse)\n",
    "    #Collapse_10_b = np.zeros_like(Collapse)\n",
    "    #Collapse_10_m = np.zeros_like(Collapse)\n",
    "    #Variability_half = np.zeros_like(Collapse)\n",
    "    #Speed_collapse = np.zeros_like(Collapse)\n",
    "    #Viability = np.zeros_like(Collapse)\n",
    "    #Ratio = np.zeros_like(Collapse)\n",
    "    #Point = np.zeros_like(Collapse)\n",
    "    #Time_rotation_N = np.zeros_like(Collapse)\n",
    "    #Time_rotation_W = np.zeros_like(Collapse)\n",
    "    \n",
    "    #Exemples = np.zeros(len(Freq))\n",
    "    \n",
    "    for i, freq in enumerate(Freq):\n",
    "        Param_freq = {\"p\":freq}\n",
    "        Fire_param[\"param_freq\"] = Param_freq\n",
    "        # dt = min(0.1, 0.1/freq)\n",
    "        exemples(name = name, Number_of_simulation = Number_of_simulation, mean = False, finalTime = finalTime, Fire_param = Fire_param, dt = dt, Param_phy=Param_phy, Init=Init)\n",
    "        for j in range(numbreDePoint):\n",
    "            S = Solver(numberOfSimulation=Number_of_simulation, model = \"allee_effect_adi\", Init=Init, Param_phy= Param_phy, finalTime = finalTime, dt=dt, Fire_param = Fire_param)\n",
    "            S.run()\n",
    "            Collapse[j,i] = S.collapse()\n",
    "            Variability_always[j,i]\n",
    "            Variability_always[j,i] = S.variability_always()\n",
    "            Variability_tr10[j,i] = S.variability_tr10()\n",
    "            Variability_tr0[j,i] = S.variability_tr0()\n",
    "            \n",
    "           # print(\"\\nTime solve init\", t05-t0)\n",
    "            #print(\"Time solver \", t1-t05)\n",
    "            #print(\"Time collapse \", t2-t1)\n",
    "            #print(\"Time variability \", t3-t2)\n",
    "            \n",
    "    Measures = {\"Collapse\": Collapse,\n",
    "                \"Variability_always\": Variability_always, \n",
    "                \"Variability_tr10\": Variability_tr10,\n",
    "                \"Variability_tr0\": Variability_tr0}\n",
    "    \n",
    "    # save data\n",
    "    pickle_out = open(name+\".txt\",\"wb\")\n",
    "    pickle.dump(Measures, pickle_out)\n",
    "    pickle_out.close()\n",
    "    \n",
    "    return"
   ]
  },
  {
   "cell_type": "code",
   "execution_count": 4,
   "metadata": {
    "scrolled": false
   },
   "outputs": [
    {
     "name": "stderr",
     "output_type": "stream",
     "text": [
      "C:\\Users\\jerome\\Anaconda3\\lib\\site-packages\\ipykernel_launcher.py:93: RuntimeWarning: Mean of empty slice\n",
      "C:\\Users\\jerome\\Anaconda3\\lib\\site-packages\\ipykernel_launcher.py:114: RuntimeWarning: Mean of empty slice\n"
     ]
    },
    {
     "name": "stdout",
     "output_type": "stream",
     "text": [
      "Tue Apr 16 18:03:36 2019 , Figure  18 (total  1728 )\n",
      "Tue Apr 16 18:29:52 2019 , Figure  36 (total  1728 )\n",
      "Tue Apr 16 18:56:10 2019 , Figure  54 (total  1728 )\n"
     ]
    },
    {
     "name": "stderr",
     "output_type": "stream",
     "text": [
      "C:\\Users\\jerome\\Anaconda3\\lib\\site-packages\\ipykernel_launcher.py:94: RuntimeWarning: Mean of empty slice\n"
     ]
    },
    {
     "name": "stdout",
     "output_type": "stream",
     "text": [
      "Tue Apr 16 19:22:27 2019 , Figure  72 (total  1728 )\n",
      "Tue Apr 16 19:48:44 2019 , Figure  90 (total  1728 )\n",
      "Tue Apr 16 20:15:02 2019 , Figure  108 (total  1728 )\n",
      "Tue Apr 16 20:41:18 2019 , Figure  126 (total  1728 )\n",
      "Tue Apr 16 21:07:36 2019 , Figure  144 (total  1728 )\n",
      "Tue Apr 16 21:33:57 2019 , Figure  162 (total  1728 )\n",
      "Tue Apr 16 22:00:12 2019 , Figure  180 (total  1728 )\n",
      "Tue Apr 16 22:26:29 2019 , Figure  198 (total  1728 )\n",
      "Tue Apr 16 22:52:51 2019 , Figure  216 (total  1728 )\n",
      "Tue Apr 16 23:19:06 2019 , Figure  234 (total  1728 )\n",
      "Tue Apr 16 23:45:24 2019 , Figure  252 (total  1728 )\n",
      "Wed Apr 17 00:11:44 2019 , Figure  270 (total  1728 )\n",
      "Wed Apr 17 00:37:58 2019 , Figure  288 (total  1728 )\n",
      "Wed Apr 17 01:04:18 2019 , Figure  306 (total  1728 )\n",
      "Wed Apr 17 01:30:38 2019 , Figure  324 (total  1728 )\n",
      "Wed Apr 17 01:56:53 2019 , Figure  342 (total  1728 )\n",
      "Wed Apr 17 02:23:11 2019 , Figure  360 (total  1728 )\n",
      "Wed Apr 17 02:49:32 2019 , Figure  378 (total  1728 )\n",
      "Wed Apr 17 03:15:46 2019 , Figure  396 (total  1728 )\n",
      "Wed Apr 17 03:42:07 2019 , Figure  414 (total  1728 )\n",
      "Wed Apr 17 04:08:28 2019 , Figure  432 (total  1728 )\n",
      "Wed Apr 17 04:34:43 2019 , Figure  450 (total  1728 )\n",
      "Wed Apr 17 05:01:00 2019 , Figure  468 (total  1728 )\n",
      "Wed Apr 17 05:27:19 2019 , Figure  486 (total  1728 )\n",
      "Wed Apr 17 05:53:32 2019 , Figure  504 (total  1728 )\n",
      "Wed Apr 17 06:19:46 2019 , Figure  522 (total  1728 )\n",
      "Wed Apr 17 06:46:08 2019 , Figure  540 (total  1728 )\n",
      "Wed Apr 17 07:12:19 2019 , Figure  558 (total  1728 )\n",
      "Wed Apr 17 07:38:33 2019 , Figure  576 (total  1728 )\n",
      "Wed Apr 17 08:04:51 2019 , Figure  594 (total  1728 )\n",
      "Wed Apr 17 08:31:02 2019 , Figure  612 (total  1728 )\n",
      "Wed Apr 17 08:57:15 2019 , Figure  630 (total  1728 )\n",
      "Wed Apr 17 09:23:41 2019 , Figure  648 (total  1728 )\n",
      "Wed Apr 17 09:49:55 2019 , Figure  666 (total  1728 )\n",
      "Wed Apr 17 10:16:08 2019 , Figure  684 (total  1728 )\n",
      "Wed Apr 17 10:42:27 2019 , Figure  702 (total  1728 )\n",
      "Wed Apr 17 11:08:28 2019 , Figure  720 (total  1728 )\n",
      "Wed Apr 17 11:34:45 2019 , Figure  738 (total  1728 )\n",
      "Wed Apr 17 12:01:09 2019 , Figure  756 (total  1728 )\n",
      "Wed Apr 17 12:27:13 2019 , Figure  774 (total  1728 )\n",
      "Wed Apr 17 12:53:23 2019 , Figure  792 (total  1728 )\n",
      "Wed Apr 17 13:19:44 2019 , Figure  810 (total  1728 )\n",
      "Wed Apr 17 13:45:45 2019 , Figure  828 (total  1728 )\n",
      "Wed Apr 17 14:12:04 2019 , Figure  846 (total  1728 )\n",
      "Wed Apr 17 14:38:28 2019 , Figure  864 (total  1728 )\n",
      "Wed Apr 17 15:04:53 2019 , Figure  882 (total  1728 )\n",
      "Wed Apr 17 15:31:20 2019 , Figure  900 (total  1728 )\n",
      "Wed Apr 17 15:57:49 2019 , Figure  918 (total  1728 )\n",
      "Wed Apr 17 16:24:13 2019 , Figure  936 (total  1728 )\n",
      "Wed Apr 17 16:50:54 2019 , Figure  954 (total  1728 )\n",
      "Wed Apr 17 17:17:47 2019 , Figure  972 (total  1728 )\n",
      "Wed Apr 17 17:44:14 2019 , Figure  990 (total  1728 )\n",
      "Wed Apr 17 18:10:40 2019 , Figure  1008 (total  1728 )\n",
      "Wed Apr 17 18:37:11 2019 , Figure  1026 (total  1728 )\n",
      "Wed Apr 17 19:03:31 2019 , Figure  1044 (total  1728 )\n",
      "Wed Apr 17 19:29:58 2019 , Figure  1062 (total  1728 )\n",
      "Wed Apr 17 19:56:29 2019 , Figure  1080 (total  1728 )\n",
      "Wed Apr 17 20:22:49 2019 , Figure  1098 (total  1728 )\n",
      "Wed Apr 17 20:49:16 2019 , Figure  1116 (total  1728 )\n",
      "Wed Apr 17 21:15:47 2019 , Figure  1134 (total  1728 )\n",
      "Wed Apr 17 21:42:00 2019 , Figure  1152 (total  1728 )\n",
      "Wed Apr 17 22:08:26 2019 , Figure  1170 (total  1728 )\n",
      "Wed Apr 17 22:34:58 2019 , Figure  1188 (total  1728 )\n",
      "Wed Apr 17 23:01:09 2019 , Figure  1206 (total  1728 )\n",
      "Wed Apr 17 23:27:34 2019 , Figure  1224 (total  1728 )\n",
      "Wed Apr 17 23:54:06 2019 , Figure  1242 (total  1728 )\n",
      "Thu Apr 18 00:20:17 2019 , Figure  1260 (total  1728 )\n",
      "Thu Apr 18 00:46:44 2019 , Figure  1278 (total  1728 )\n",
      "Thu Apr 18 01:13:17 2019 , Figure  1296 (total  1728 )\n",
      "Thu Apr 18 01:39:34 2019 , Figure  1314 (total  1728 )\n",
      "Thu Apr 18 02:05:53 2019 , Figure  1332 (total  1728 )\n",
      "Thu Apr 18 02:32:20 2019 , Figure  1350 (total  1728 )\n",
      "Thu Apr 18 02:58:34 2019 , Figure  1368 (total  1728 )\n",
      "Thu Apr 18 03:24:46 2019 , Figure  1386 (total  1728 )\n",
      "Thu Apr 18 03:51:13 2019 , Figure  1404 (total  1728 )\n",
      "Thu Apr 18 04:17:27 2019 , Figure  1422 (total  1728 )\n",
      "Thu Apr 18 04:43:39 2019 , Figure  1440 (total  1728 )\n",
      "Thu Apr 18 05:10:06 2019 , Figure  1458 (total  1728 )\n",
      "Thu Apr 18 05:36:20 2019 , Figure  1476 (total  1728 )\n",
      "Thu Apr 18 06:02:30 2019 , Figure  1494 (total  1728 )\n",
      "Thu Apr 18 06:28:59 2019 , Figure  1512 (total  1728 )\n",
      "Thu Apr 18 06:55:09 2019 , Figure  1530 (total  1728 )\n",
      "Thu Apr 18 07:21:18 2019 , Figure  1548 (total  1728 )\n",
      "Thu Apr 18 07:47:46 2019 , Figure  1566 (total  1728 )\n",
      "Thu Apr 18 08:13:53 2019 , Figure  1584 (total  1728 )\n",
      "Thu Apr 18 08:40:07 2019 , Figure  1602 (total  1728 )\n",
      "Thu Apr 18 09:06:37 2019 , Figure  1620 (total  1728 )\n",
      "Thu Apr 18 09:32:48 2019 , Figure  1638 (total  1728 )\n",
      "Thu Apr 18 09:59:04 2019 , Figure  1656 (total  1728 )\n",
      "Thu Apr 18 10:25:37 2019 , Figure  1674 (total  1728 )\n",
      "Thu Apr 18 10:51:47 2019 , Figure  1692 (total  1728 )\n",
      "Thu Apr 18 11:18:06 2019 , Figure  1710 (total  1728 )\n",
      "Thu Apr 18 11:45:08 2019 , Figure  1728 (total  1728 )\n"
     ]
    },
    {
     "data": {
      "image/png": "[encoded data removed]",
      "text/plain": [
       "<Figure size 432x288 with 1 Axes>"
      ]
     },
     "metadata": {
      "needs_background": "light"
     },
     "output_type": "display_data"
    }
   ],
   "source": [
    "nomberFigure = len(N0)*len(W0)*len(FinalTime)*len(A)*len(M)*len(Alpha)*len(Beta)*len(Strength)\n",
    "fig_by_loop = len(Freq) + 1\n",
    "\n",
    "c=0\n",
    "for n0 in N0:\n",
    "    for w0 in W0:\n",
    "        Init = [n0, w0]\n",
    "        for finalTime in FinalTime:\n",
    "            for a in A:\n",
    "                for m in M:\n",
    "                    Param_phy = [a, m]\n",
    "                    #Init = [1., Param_phy[1]]\n",
    "                    for strength in Strength:\n",
    "                        for alpha in Alpha:\n",
    "                            for beta in Beta:\n",
    "                                name = DOSSIER+\"n0=\"+str(n0)+\"_w0=\"+str(w0)+\"_final_time=\"+str(finalTime)+\"_a=\"+str(a)+\"_m=\"+str(m)+\"_strength=\"+str(strength)+\"_alpha=\"+str(alpha)+\"_beta=\"+str(beta)\n",
    "                                param_study(Number_of_simulation, numbreDePoint, Freq, Param_phy, Init, finalTime, alpha, beta, strength, dt, name)           \n",
    "                                c+=1\n",
    "                                print(tm.ctime(), \", Figure \", c*fig_by_loop, \"(total \", fig_by_loop*nomberFigure, \")\") # afficher l'heure"
   ]
  }
 ],
 "metadata": {
  "kernelspec": {
   "display_name": "Python 3",
   "language": "python",
   "name": "python3"
  },
  "language_info": {
   "codemirror_mode": {
    "name": "ipython",
    "version": 3
   },
   "file_extension": ".py",
   "mimetype": "text/x-python",
   "name": "python",
   "nbconvert_exporter": "python",
   "pygments_lexer": "ipython3",
   "version": "3.7.1"
  }
 },
 "nbformat": 4,
 "nbformat_minor": 2
}
