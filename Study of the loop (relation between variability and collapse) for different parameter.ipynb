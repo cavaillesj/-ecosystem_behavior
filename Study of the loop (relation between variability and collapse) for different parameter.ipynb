{
 "cells": [
  {
   "cell_type": "markdown",
   "metadata": {},
   "source": [
    "# Generation of the simulation \n",
    "### save one example of time series and all measures"
   ]
  },
  {
   "cell_type": "markdown",
   "metadata": {},
   "source": [
    "###### I have change the computation of the variability !!!"
   ]
  },
  {
   "cell_type": "code",
   "execution_count": 17,
   "metadata": {},
   "outputs": [],
   "source": [
    "import time as tm\n",
    "import colorsys\n",
    "import pickle # package use to save data\n",
    "\n",
    "exec(open(\"ode.py\").read(), globals())\n",
    "exec(open(\"variability.py\").read(), globals())\n",
    "\n",
    "exec(open(\"param_loop.py\").read(), globals())"
   ]
  },
  {
   "cell_type": "code",
   "execution_count": 12,
   "metadata": {},
   "outputs": [],
   "source": [
    "def param_study(Number_of_simulation, numbreDePoint, Freq, Param_phy, Init, finalTime, alpha, beta, strength, dt, name):\n",
    "   # Color = [\"blue\", \"g\", \"red\", \"orange\", \"pink\", \"black\", \"magenta\", \"grey\"]\n",
    "    Param_coupled = {\"alpha\":alpha,\n",
    "                     \"beta\":beta}\n",
    "    Param_freq = {\"p\":-1} # going to change\n",
    "    Param_strength = {\"scale\":strength}\n",
    "    Fire_param = {\"model\": \"coupled\",\n",
    "                    \"frequence\": \"bernoulli\",\n",
    "                    \"param_freq\" : Param_freq,\n",
    "                    \"amplitude\": \"exponential\",\n",
    "                    \"Param_strength\" : Param_strength,\n",
    "                    \"Param_coupled\" : Param_coupled,\n",
    "                    \"type\" : \"proportionnal\",\n",
    "                    \"coef_W_N\" : 5}\n",
    "\n",
    "    # Initialization of arrays\n",
    "    Collapse = np.zeros((numbreDePoint, len(Freq), Number_of_simulation))\n",
    "    Variability_always = np.zeros_like(Collapse)\n",
    "    Variability_until = np.zeros_like(Collapse)\n",
    "    Variability_only = np.zeros_like(Collapse)\n",
    "    Variability_10 = np.zeros_like(Collapse)\n",
    "    Collapse_10_b = np.zeros_like(Collapse)\n",
    "    Collapse_10_m = np.zeros_like(Collapse)\n",
    "    Variability_half = np.zeros_like(Collapse)\n",
    "    Speed_collapse = np.zeros_like(Collapse)\n",
    "    Viability = np.zeros_like(Collapse)\n",
    "    Ratio = np.zeros_like(Collapse)\n",
    "    Point = np.zeros_like(Collapse)\n",
    "    Time_rotation_N = np.zeros_like(Collapse)\n",
    "    Time_rotation_W = np.zeros_like(Collapse)\n",
    "    \n",
    "    #Exemples = np.zeros(len(Freq))\n",
    "    \n",
    "    for i, freq in enumerate(Freq):\n",
    "        Param_freq = {\"p\":freq}\n",
    "        Fire_param[\"param_freq\"] = Param_freq\n",
    "        #exemples(name = name, Number_of_simulation = Number_of_simulation, mean = False, finalTime = finalTime, Fire_param = Fire_param, dt = dt, Param_phy=Param_phy, Init=Init)\n",
    "        for j in range(numbreDePoint):\n",
    "            #Variability_half[j,i]\n",
    "            #Speed_collapse[j,i]\n",
    "            #Viability[j,i]\n",
    "            Collapse[j,i], Variability_always[j,i], Variability_until[j,i], Variability_only[j,i], Variability_10[j,i], Collapse_10_b[j,i], Collapse_10_m[j,i], Variability_half[j,i], Speed_collapse[j,i], Viability[j,i], Ratio[j,i], Point[j,i], Time_rotation_N[j,i], Time_rotation_W[j,i] = all_measure(Number_of_simulation = Number_of_simulation, mean = False, finalTime = finalTime, Fire_param = Fire_param, dt = dt, Param_phy=Param_phy, Init=Init)\n",
    "     \n",
    "    Measures = {\"Collapse\": Collapse,\n",
    "                \"Variability_always\": Variability_always,\n",
    "                \"Variability_until\": Variability_until, \n",
    "                \"Variability_only\":Variability_only,\n",
    "                \"Variability_10\":Variability_10,\n",
    "                \"Variability_half\":Variability_half,\n",
    "                \"Speed_collapse\":Speed_collapse,\n",
    "                \"Viability\":Viability,\n",
    "                \"Ratio\":Ratio,\n",
    "                \"Point\":Point,\n",
    "                \"Time_rotation_N\":Time_rotation_N,\n",
    "                \"Time_rotation_W\":Time_rotation_W}\n",
    "    \n",
    "    # save data\n",
    "    pickle_out = open(name+\".txt\",\"wb\")\n",
    "    pickle.dump(Measures, pickle_out)\n",
    "    pickle_out.close()\n",
    "    \n",
    "    return"
   ]
  },
  {
   "cell_type": "code",
   "execution_count": 20,
   "metadata": {},
   "outputs": [],
   "source": [
    "def generation_sensibility_parap_loop(n0 = n0_default, w0 = w0_default, a = a_default, m = m_default, strength = strength_default, alpha = alpha_default, beta = beta_default, finalTime = finalTime_default):\n",
    "    Init = [n0, w0]\n",
    "    Param_phy = [a, m]\n",
    "    name = DOSSIER+\"n0=\"+str(n0)+\"_w0=\"+str(w0)+\"_final_time=\"+str(finalTime)+\"_a=\"+str(a)+\"_m=\"+str(m)+\"_strength=\"+str(strength)+\"_alpha=\"+str(alpha)+\"_beta=\"+str(beta)\n",
    "    param_study(Number_of_simulation, numbreDePoint, Freq, Param_phy, Init, finalTime, alpha, beta, strength, dt, name)           \n",
    "    print(tm.ctime()) # afficher l'heure\n",
    "    return"
   ]
  },
  {
   "cell_type": "raw",
   "metadata": {},
   "source": [
    "for n0 in N0:\n",
    "    generation_sensibility_parap_loop(n0 = n0) "
   ]
  },
  {
   "cell_type": "raw",
   "metadata": {},
   "source": [
    "for w0 in W0:\n",
    "    generation_sensibility_parap_loop(w0 = w0)"
   ]
  },
  {
   "cell_type": "code",
   "execution_count": 4,
   "metadata": {},
   "outputs": [
    {
     "name": "stderr",
     "output_type": "stream",
     "text": [
      "C:\\Users\\jerome\\Anaconda3\\lib\\site-packages\\ipykernel_launcher.py:273: RuntimeWarning: divide by zero encountered in double_scalars\n"
     ]
    },
    {
     "name": "stdout",
     "output_type": "stream",
     "text": [
      "Mon Apr 15 17:54:07 2019\n",
      "Mon Apr 15 17:56:14 2019\n",
      "Mon Apr 15 17:58:20 2019\n",
      "Mon Apr 15 18:00:26 2019\n",
      "Mon Apr 15 18:02:30 2019\n",
      "Mon Apr 15 18:04:33 2019\n",
      "Mon Apr 15 18:06:38 2019\n",
      "Mon Apr 15 18:08:42 2019\n",
      "Mon Apr 15 18:10:46 2019\n",
      "Mon Apr 15 18:12:50 2019\n",
      "Mon Apr 15 18:14:52 2019\n",
      "Mon Apr 15 18:16:55 2019\n"
     ]
    }
   ],
   "source": [
    "for a in A:\n",
    "    generation_sensibility_parap_loop(a = a)"
   ]
  },
  {
   "cell_type": "code",
   "execution_count": 5,
   "metadata": {},
   "outputs": [
    {
     "name": "stderr",
     "output_type": "stream",
     "text": [
      "C:\\Users\\jerome\\Anaconda3\\lib\\site-packages\\ipykernel_launcher.py:273: RuntimeWarning: divide by zero encountered in double_scalars\n"
     ]
    },
    {
     "name": "stdout",
     "output_type": "stream",
     "text": [
      "Mon Apr 15 18:18:59 2019\n",
      "Mon Apr 15 18:21:04 2019\n",
      "Mon Apr 15 18:23:08 2019\n",
      "Mon Apr 15 18:25:12 2019\n",
      "Mon Apr 15 18:27:16 2019\n",
      "Mon Apr 15 18:29:20 2019\n",
      "Mon Apr 15 18:31:25 2019\n",
      "Mon Apr 15 18:33:29 2019\n",
      "Mon Apr 15 18:35:33 2019\n",
      "Mon Apr 15 18:37:37 2019\n",
      "Mon Apr 15 18:39:40 2019\n",
      "Mon Apr 15 18:41:44 2019\n",
      "Mon Apr 15 18:43:49 2019\n",
      "Mon Apr 15 18:45:54 2019\n",
      "Mon Apr 15 18:47:58 2019\n",
      "Mon Apr 15 18:50:02 2019\n",
      "Mon Apr 15 18:52:06 2019\n",
      "Mon Apr 15 18:54:10 2019\n",
      "Mon Apr 15 18:56:14 2019\n",
      "Mon Apr 15 18:58:19 2019\n",
      "Mon Apr 15 19:00:24 2019\n",
      "Mon Apr 15 19:02:30 2019\n",
      "Mon Apr 15 19:04:37 2019\n",
      "Mon Apr 15 19:06:44 2019\n",
      "Mon Apr 15 19:08:50 2019\n",
      "Mon Apr 15 19:10:58 2019\n",
      "Mon Apr 15 19:13:04 2019\n",
      "Mon Apr 15 19:15:12 2019\n",
      "Mon Apr 15 19:17:19 2019\n",
      "Mon Apr 15 19:19:26 2019\n",
      "Mon Apr 15 19:21:33 2019\n",
      "Mon Apr 15 19:23:41 2019\n",
      "Mon Apr 15 19:25:48 2019\n",
      "Mon Apr 15 19:27:55 2019\n",
      "Mon Apr 15 19:30:02 2019\n",
      "Mon Apr 15 19:32:09 2019\n",
      "Mon Apr 15 19:34:16 2019\n",
      "Mon Apr 15 19:36:23 2019\n",
      "Mon Apr 15 19:38:29 2019\n",
      "Mon Apr 15 19:40:37 2019\n",
      "Mon Apr 15 19:42:43 2019\n",
      "Mon Apr 15 19:44:51 2019\n",
      "Mon Apr 15 19:46:58 2019\n",
      "Mon Apr 15 19:49:05 2019\n",
      "Mon Apr 15 19:51:12 2019\n",
      "Mon Apr 15 19:53:19 2019\n",
      "Mon Apr 15 19:55:26 2019\n",
      "Mon Apr 15 19:57:33 2019\n",
      "Mon Apr 15 19:59:40 2019\n",
      "Mon Apr 15 20:01:47 2019\n",
      "Mon Apr 15 20:03:54 2019\n",
      "Mon Apr 15 20:06:01 2019\n"
     ]
    }
   ],
   "source": [
    "for m in M:\n",
    "    generation_sensibility_parap_loop(m = m)"
   ]
  },
  {
   "cell_type": "code",
   "execution_count": 6,
   "metadata": {},
   "outputs": [
    {
     "name": "stdout",
     "output_type": "stream",
     "text": [
      "Mon Apr 15 20:08:08 2019\n",
      "Mon Apr 15 20:10:16 2019\n",
      "Mon Apr 15 20:12:23 2019\n",
      "Mon Apr 15 20:14:31 2019\n",
      "Mon Apr 15 20:16:38 2019\n",
      "Mon Apr 15 20:18:44 2019\n",
      "Mon Apr 15 20:20:51 2019\n"
     ]
    },
    {
     "name": "stderr",
     "output_type": "stream",
     "text": [
      "C:\\Users\\jerome\\Anaconda3\\lib\\site-packages\\ipykernel_launcher.py:273: RuntimeWarning: divide by zero encountered in double_scalars\n"
     ]
    },
    {
     "name": "stdout",
     "output_type": "stream",
     "text": [
      "Mon Apr 15 20:22:58 2019\n",
      "Mon Apr 15 20:25:05 2019\n",
      "Mon Apr 15 20:27:12 2019\n",
      "Mon Apr 15 20:29:20 2019\n",
      "Mon Apr 15 20:31:27 2019\n",
      "Mon Apr 15 20:33:34 2019\n"
     ]
    },
    {
     "name": "stderr",
     "output_type": "stream",
     "text": [
      "C:\\Users\\jerome\\Anaconda3\\lib\\site-packages\\numpy\\core\\fromnumeric.py:2920: RuntimeWarning: Mean of empty slice.\n",
      "  out=out, **kwargs)\n",
      "C:\\Users\\jerome\\Anaconda3\\lib\\site-packages\\numpy\\core\\_methods.py:85: RuntimeWarning: invalid value encountered in double_scalars\n",
      "  ret = ret.dtype.type(ret / rcount)\n",
      "C:\\Users\\jerome\\Anaconda3\\lib\\site-packages\\ipykernel_launcher.py:143: RuntimeWarning: invalid value encountered in less\n"
     ]
    },
    {
     "name": "stdout",
     "output_type": "stream",
     "text": [
      "Mon Apr 15 20:35:41 2019\n",
      "Mon Apr 15 20:37:48 2019\n"
     ]
    },
    {
     "name": "stderr",
     "output_type": "stream",
     "text": [
      "C:\\Users\\jerome\\Anaconda3\\lib\\site-packages\\ipykernel_launcher.py:166: RuntimeWarning: divide by zero encountered in true_divide\n"
     ]
    },
    {
     "name": "stdout",
     "output_type": "stream",
     "text": [
      "Mon Apr 15 20:39:55 2019\n",
      "Mon Apr 15 20:42:01 2019\n",
      "Mon Apr 15 20:44:06 2019\n",
      "Mon Apr 15 20:46:10 2019\n",
      "Mon Apr 15 20:48:13 2019\n"
     ]
    }
   ],
   "source": [
    "for strength in Strength:\n",
    "    generation_sensibility_parap_loop(strength = strength)"
   ]
  },
  {
   "cell_type": "code",
   "execution_count": 18,
   "metadata": {},
   "outputs": [
    {
     "name": "stderr",
     "output_type": "stream",
     "text": [
      "C:\\Users\\jerome\\Anaconda3\\lib\\site-packages\\ipykernel_launcher.py:273: RuntimeWarning: divide by zero encountered in double_scalars\n"
     ]
    },
    {
     "name": "stdout",
     "output_type": "stream",
     "text": [
      "Tue Apr 16 11:55:09 2019\n",
      "Tue Apr 16 11:57:12 2019\n",
      "Tue Apr 16 11:59:14 2019\n",
      "Tue Apr 16 12:01:18 2019\n",
      "Tue Apr 16 12:03:20 2019\n",
      "Tue Apr 16 12:05:24 2019\n",
      "Tue Apr 16 12:07:26 2019\n",
      "Tue Apr 16 12:09:29 2019\n",
      "Tue Apr 16 12:11:33 2019\n",
      "Tue Apr 16 12:13:36 2019\n",
      "Tue Apr 16 12:15:39 2019\n",
      "Tue Apr 16 12:17:42 2019\n"
     ]
    }
   ],
   "source": [
    "for alpha in Alpha:\n",
    "    generation_sensibility_parap_loop(alpha = alpha)"
   ]
  },
  {
   "cell_type": "code",
   "execution_count": 19,
   "metadata": {},
   "outputs": [
    {
     "name": "stderr",
     "output_type": "stream",
     "text": [
      "C:\\Users\\jerome\\Anaconda3\\lib\\site-packages\\ipykernel_launcher.py:273: RuntimeWarning: divide by zero encountered in double_scalars\n"
     ]
    },
    {
     "name": "stdout",
     "output_type": "stream",
     "text": [
      "Tue Apr 16 12:19:46 2019\n",
      "Tue Apr 16 12:21:49 2019\n",
      "Tue Apr 16 12:23:56 2019\n",
      "Tue Apr 16 12:26:03 2019\n",
      "Tue Apr 16 12:28:07 2019\n",
      "Tue Apr 16 12:30:13 2019\n",
      "Tue Apr 16 12:32:18 2019\n",
      "Tue Apr 16 12:34:22 2019\n",
      "Tue Apr 16 12:36:27 2019\n"
     ]
    }
   ],
   "source": [
    "for beta in Beta:\n",
    "    generation_sensibility_parap_loop(beta = beta)"
   ]
  },
  {
   "cell_type": "code",
   "execution_count": 16,
   "metadata": {},
   "outputs": [
    {
     "name": "stdout",
     "output_type": "stream",
     "text": [
      "Tue Apr 16 11:00:13 2019\n",
      "Tue Apr 16 11:00:21 2019\n",
      "Tue Apr 16 11:00:32 2019\n",
      "Tue Apr 16 11:00:45 2019\n",
      "Tue Apr 16 11:01:01 2019\n",
      "Tue Apr 16 11:01:18 2019\n",
      "Tue Apr 16 11:01:39 2019\n"
     ]
    },
    {
     "name": "stderr",
     "output_type": "stream",
     "text": [
      "C:\\Users\\jerome\\Anaconda3\\lib\\site-packages\\ipykernel_launcher.py:273: RuntimeWarning: divide by zero encountered in double_scalars\n"
     ]
    },
    {
     "name": "stdout",
     "output_type": "stream",
     "text": [
      "Tue Apr 16 11:02:01 2019\n",
      "Tue Apr 16 11:02:26 2019\n",
      "Tue Apr 16 11:02:54 2019\n",
      "Tue Apr 16 11:03:24 2019\n",
      "Tue Apr 16 11:03:56 2019\n",
      "Tue Apr 16 11:04:31 2019\n",
      "Tue Apr 16 11:05:08 2019\n",
      "Tue Apr 16 11:05:47 2019\n",
      "Tue Apr 16 11:06:29 2019\n",
      "Tue Apr 16 11:07:13 2019\n",
      "Tue Apr 16 11:08:00 2019\n",
      "Tue Apr 16 11:08:49 2019\n",
      "Tue Apr 16 11:09:40 2019\n",
      "Tue Apr 16 11:10:56 2019\n",
      "Tue Apr 16 11:12:23 2019\n",
      "Tue Apr 16 11:13:57 2019\n",
      "Tue Apr 16 11:15:34 2019\n",
      "Tue Apr 16 11:17:11 2019\n",
      "Tue Apr 16 11:18:50 2019\n",
      "Tue Apr 16 11:20:31 2019\n",
      "Tue Apr 16 11:22:12 2019\n",
      "Tue Apr 16 11:23:54 2019\n",
      "Tue Apr 16 11:25:39 2019\n",
      "Tue Apr 16 11:27:25 2019\n",
      "Tue Apr 16 11:29:14 2019\n",
      "Tue Apr 16 11:31:07 2019\n",
      "Tue Apr 16 11:33:05 2019\n",
      "Tue Apr 16 11:35:09 2019\n"
     ]
    }
   ],
   "source": [
    "for finalTime in FinalTime:\n",
    "    generation_sensibility_parap_loop(finalTime = finalTime)"
   ]
  },
  {
   "cell_type": "markdown",
   "metadata": {},
   "source": [
    "# Plot for the summary"
   ]
  },
  {
   "cell_type": "code",
   "execution_count": 10,
   "metadata": {},
   "outputs": [
    {
     "name": "stderr",
     "output_type": "stream",
     "text": [
      "C:\\Users\\jerome\\Anaconda3\\lib\\site-packages\\ipykernel_launcher.py:143: RuntimeWarning: invalid value encountered in less\n",
      "C:\\Users\\jerome\\Anaconda3\\lib\\site-packages\\ipykernel_launcher.py:166: RuntimeWarning: divide by zero encountered in true_divide\n",
      "C:\\Users\\jerome\\Anaconda3\\lib\\site-packages\\ipykernel_launcher.py:273: RuntimeWarning: divide by zero encountered in double_scalars\n"
     ]
    },
    {
     "name": "stdout",
     "output_type": "stream",
     "text": [
      "Mon Apr 15 22:02:34 2019\n"
     ]
    }
   ],
   "source": [
    "generation_sensibility_parap_loop(n0 = 0.5, w0 = 10, finalTime=100, a=0.4, m=6., strength=0.0005, alpha = 50, beta = 70)"
   ]
  },
  {
   "cell_type": "code",
   "execution_count": null,
   "metadata": {},
   "outputs": [],
   "source": []
  }
 ],
 "metadata": {
  "kernelspec": {
   "display_name": "Python 3",
   "language": "python",
   "name": "python3"
  },
  "language_info": {
   "codemirror_mode": {
    "name": "ipython",
    "version": 3
   },
   "file_extension": ".py",
   "mimetype": "text/x-python",
   "name": "python",
   "nbconvert_exporter": "python",
   "pygments_lexer": "ipython3",
   "version": "3.7.1"
  }
 },
 "nbformat": 4,
 "nbformat_minor": 2
}
