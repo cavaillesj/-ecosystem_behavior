{
 "cells": [
  {
   "cell_type": "markdown",
   "metadata": {},
   "source": [
    "# Generation of the simulation "
   ]
  },
  {
   "cell_type": "markdown",
   "metadata": {},
   "source": [
    "### News :\n",
    "- adaptative dt\n",
    "- begin to the (2nd) stable equilibrium\n",
    "- different variability\n",
    "- different collapse (collapse proba and collapse proba per time unit)\n",
    "- different application to the variability"
   ]
  },
  {
   "cell_type": "code",
   "execution_count": 1,
   "metadata": {},
   "outputs": [],
   "source": [
    "import time as tm\n",
    "import colorsys\n",
    "import pickle # package use to save data\n",
    "\n",
    "exec(open(\"solver2.py\").read(), globals())\n",
    "exec(open(\"param.py\").read(), globals())"
   ]
  },
  {
   "cell_type": "code",
   "execution_count": 2,
   "metadata": {},
   "outputs": [],
   "source": [
    "def exemples(name, Number_of_simulation = 100, mean = True, **kwargs):\n",
    "    name = name+\"_freq=\"+str(kwargs[\"Fire_param\"][\"param_freq\"][\"p\"])+\".png\"\n",
    "    O = Ode(**kwargs)\n",
    "    Y = O.solve_by_part()\n",
    "    O.plot_time_series(save = True, name = name, generation = True, show = False)\n",
    "    return Y"
   ]
  },
  {
   "cell_type": "code",
   "execution_count": 3,
   "metadata": {},
   "outputs": [],
   "source": [
    "def param_study(Number_of_simulation, numbreDePoint, Freq, Param_phy, Init, finalTime, alpha, beta, strength, name):\n",
    "   # Color = [\"blue\", \"g\", \"red\", \"orange\", \"pink\", \"black\", \"magenta\", \"grey\"]\n",
    "    Param_coupled = {\"alpha\":alpha,\n",
    "                     \"beta\":beta}\n",
    "    Param_freq = {\"p\":-1} # going to change\n",
    "    Param_strength = {\"scale\":strength}\n",
    "    Fire_param = {\"model\": \"coupled\",\n",
    "                    \"frequence\": \"bernoulli\",\n",
    "                    \"param_freq\" : Param_freq,\n",
    "                    \"amplitude\": \"exponential\",\n",
    "                    \"Param_strength\" : Param_strength,\n",
    "                    \"Param_coupled\" : Param_coupled,\n",
    "                    \"type\" : \"proportionnal\",\n",
    "                    \"coef_W_N\" : 5}\n",
    "\n",
    "\n",
    "    # Initialization of arrays\n",
    "    Collapse_proba = np.zeros((numbreDePoint, len(Freq)))\n",
    "    Collapse_proba_per_time_unit = np.zeros_like(Collapse_proba)\n",
    "\n",
    "    Variability_always_N = np.zeros_like(Collapse_proba)\n",
    "    Variability_until_N = np.zeros_like(Collapse_proba)\n",
    "    Variability_10_N = np.zeros_like(Collapse_proba)\n",
    "    Variability_only_N = np.zeros_like(Collapse_proba)\n",
    "    Variability_tr10_N = np.zeros_like(Collapse_proba)\n",
    "    Variability_tr0_N = np.zeros_like(Collapse_proba)\n",
    "    \n",
    "    Variability_always_W = np.zeros_like(Collapse_proba)\n",
    "    Variability_until_W = np.zeros_like(Collapse_proba)\n",
    "    Variability_10_W = np.zeros_like(Collapse_proba)\n",
    "    Variability_only_W = np.zeros_like(Collapse_proba)\n",
    "    Variability_tr10_W = np.zeros_like(Collapse_proba)\n",
    "    Variability_tr0_W = np.zeros_like(Collapse_proba)\n",
    "    \n",
    "    Variability_always_NW = np.zeros_like(Collapse_proba)\n",
    "    Variability_until_NW = np.zeros_like(Collapse_proba)\n",
    "    Variability_10_NW = np.zeros_like(Collapse_proba)\n",
    "    Variability_only_NW = np.zeros_like(Collapse_proba)\n",
    "    Variability_tr10_NW = np.zeros_like(Collapse_proba)\n",
    "    Variability_tr0_NW = np.zeros_like(Collapse_proba)\n",
    "    \n",
    "    #Exemples = np.zeros(len(Freq))\n",
    "    \n",
    "    for i, freq in enumerate(Freq):\n",
    "        Param_freq = {\"p\":freq}\n",
    "        Fire_param[\"param_freq\"] = Param_freq\n",
    "        dt = min(0.1, 0.1/freq)\n",
    "        #Init = [1, Param_phy[1]]\n",
    "        exemples(name = name, Number_of_simulation = Number_of_simulation, mean = False, finalTime = finalTime, Fire_param = Fire_param, dt = dt, Param_phy=Param_phy, Init=Init)\n",
    "        for j in range(numbreDePoint):\n",
    "            S = Solver(numberOfSimulation=Number_of_simulation, model = \"allee_effect_adi\", Init=Init, Param_phy= Param_phy, finalTime = finalTime, dt=dt, Fire_param = Fire_param)\n",
    "            S.run()\n",
    "            Collapse_proba[j,i] = S.collapse_proba()\n",
    "            Collapse_proba_per_time_unit[j,i] = S.collapse_proba_per_time_unit()\n",
    "\n",
    "            Variability_always_N[j,i] = S.variability_always(applicant=\"N\")\n",
    "            Variability_until_N[j,i] = S.variability_until(applicant=\"N\")\n",
    "            Variability_10_N[j,i] = S.variability_10(applicant=\"N\")\n",
    "            Variability_only_N[j,i] = S.variability_only(applicant=\"N\")\n",
    "            Variability_tr10_N[j,i] = S.variability_tr10(applicant=\"N\")\n",
    "            Variability_tr0_N[j,i] = S.variability_tr0(applicant=\"N\")\n",
    "            \n",
    "            Variability_always_W[j,i] = S.variability_always(applicant=\"W\")\n",
    "            Variability_until_W[j,i] = S.variability_until(applicant=\"W\")\n",
    "            Variability_10_W[j,i] = S.variability_10(applicant=\"W\")\n",
    "            Variability_only_W[j,i] = S.variability_only(applicant=\"W\")\n",
    "            Variability_tr10_W[j,i] = S.variability_tr10(applicant=\"W\")\n",
    "            Variability_tr0_W[j,i] = S.variability_tr0(applicant=\"W\")\n",
    "            \n",
    "            Variability_always_NW[j,i] = S.variability_always(applicant=\"N+W\")\n",
    "            Variability_until_NW[j,i] = S.variability_until(applicant=\"N+W\")\n",
    "            Variability_10_NW[j,i] = S.variability_10(applicant=\"N+W\")\n",
    "            Variability_only_NW[j,i] = S.variability_only(applicant=\"N+W\")\n",
    "            Variability_tr10_NW[j,i] = S.variability_tr10(applicant=\"N+W\")\n",
    "            Variability_tr0_NW[j,i] = S.variability_tr0(applicant=\"N+W\")\n",
    "            \n",
    "           # print(\"\\nTime solve init\", t05-t0)\n",
    "            #print(\"Time solver \", t1-t05)\n",
    "            #print(\"Time collapse \", t2-t1)\n",
    "            #print(\"Time variability \", t3-t2)\n",
    "            \n",
    "    Measures = {\"Collapse_proba\": Collapse_proba,\n",
    "                \"Collapse_proba_per_time_unit\": Collapse_proba_per_time_unit, \n",
    "                \n",
    "                \"Variability_always_N\": Variability_always_N, \n",
    "                \"Variability_until_N\":Variability_until_N,\n",
    "                \"Variability_10_N\":Variability_10_N,\n",
    "                \"Variability_only_N\":Variability_only_N,\n",
    "                \"Variability_tr10_N\": Variability_tr10_N,\n",
    "                \"Variability_tr0_N\": Variability_tr0_N,\n",
    "                \n",
    "                \"Variability_always_W\": Variability_always_W, \n",
    "                \"Variability_until_W\":Variability_until_W,\n",
    "                \"Variability_10_W\":Variability_10_W,\n",
    "                \"Variability_only_W\":Variability_only_W,\n",
    "                \"Variability_tr10_W\": Variability_tr10_W,\n",
    "                \"Variability_tr0_W\": Variability_tr0_W,\n",
    "                \n",
    "                \"Variability_always_NW\": Variability_always_NW, \n",
    "                \"Variability_until_NW\":Variability_until_NW,\n",
    "                \"Variability_10_NW\":Variability_10_NW,\n",
    "                \"Variability_only_NW\":Variability_only_NW,\n",
    "                \"Variability_tr10_NW\": Variability_tr10_NW,\n",
    "                \"Variability_tr0_NW\": Variability_tr0_NW              \n",
    "               }\n",
    "    \n",
    "    # save data\n",
    "    pickle_out = open(name+\".txt\",\"wb\")\n",
    "    pickle.dump(Measures, pickle_out)\n",
    "    pickle_out.close()\n",
    "    \n",
    "    return"
   ]
  },
  {
   "cell_type": "markdown",
   "metadata": {},
   "source": [
    "### should end at 18h"
   ]
  },
  {
   "cell_type": "code",
   "execution_count": null,
   "metadata": {
    "scrolled": false
   },
   "outputs": [
    {
     "name": "stdout",
     "output_type": "stream",
     "text": [
      "Time at the lunch of the simulation : \n",
      " Fri Apr 19 10:49:03 2019 , Figure  0 (total  1620 )\n",
      "Fri Apr 19 10:53:38 2019 , Figure  15 (total  1620 )\n",
      "Fri Apr 19 10:58:15 2019 , Figure  30 (total  1620 )\n",
      "Fri Apr 19 11:02:51 2019 , Figure  45 (total  1620 )\n",
      "Fri Apr 19 11:07:26 2019 , Figure  60 (total  1620 )\n",
      "Fri Apr 19 11:12:01 2019 , Figure  75 (total  1620 )\n",
      "Fri Apr 19 11:16:36 2019 , Figure  90 (total  1620 )\n",
      "Fri Apr 19 11:21:11 2019 , Figure  105 (total  1620 )\n",
      "Fri Apr 19 11:25:48 2019 , Figure  120 (total  1620 )\n"
     ]
    }
   ],
   "source": [
    "nomberFigure = len(N0)*len(W0)*len(FinalTime)*len(A)*len(M)*len(Alpha)*len(Beta)*len(Strength)\n",
    "fig_by_loop = len(Freq) + 1\n",
    "\n",
    "c=0\n",
    "print(\"Time at the lunch of the simulation : \\n\", tm.ctime(), \", Figure \", c*fig_by_loop, \"(total \", fig_by_loop*nomberFigure, \")\") # afficher l'heure\n",
    "for n0 in N0:\n",
    "    for w0 in W0:\n",
    "        Init = [n0, w0]\n",
    "        for finalTime in FinalTime:\n",
    "            for a in A:\n",
    "                for m in M:\n",
    "                    Param_phy = [a, m]\n",
    "                    Init = [1., Param_phy[1]]\n",
    "                    for strength in Strength:\n",
    "                        for alpha in Alpha:\n",
    "                            for beta in Beta:\n",
    "                                name = DOSSIER+\"n0=\"+str(Init[0])+\"_w0=\"+str(Init[1])+\"_final_time=\"+str(finalTime)+\"_a=\"+str(a)+\"_m=\"+str(m)+\"_strength=\"+str(strength)+\"_alpha=\"+str(alpha)+\"_beta=\"+str(beta)\n",
    "                                param_study(Number_of_simulation, numbreDePoint, Freq, Param_phy, Init, finalTime, alpha, beta, strength, name)           \n",
    "                                c+=1\n",
    "                                print(tm.ctime(), \", Figure \", c*fig_by_loop, \"(total \", fig_by_loop*nomberFigure, \")\") # afficher l'heure"
   ]
  }
 ],
 "metadata": {
  "kernelspec": {
   "display_name": "Python 3",
   "language": "python",
   "name": "python3"
  },
  "language_info": {
   "codemirror_mode": {
    "name": "ipython",
    "version": 3
   },
   "file_extension": ".py",
   "mimetype": "text/x-python",
   "name": "python",
   "nbconvert_exporter": "python",
   "pygments_lexer": "ipython3",
   "version": "3.7.1"
  }
 },
 "nbformat": 4,
 "nbformat_minor": 2
}
